{
 "cells": [
  {
   "cell_type": "markdown",
   "metadata": {},
   "source": [
    "<div style=\"font-size:18px\">Author: Himanshu Choudhary <br>\n",
    "Git: https://github.com/choudharyhimanshu</div>"
   ]
  },
  {
   "cell_type": "code",
   "execution_count": null,
   "metadata": {
    "collapsed": false
   },
   "outputs": [],
   "source": [
    "%matplotlib inline\n",
    "import numpy as np\n",
    "import cv2\n",
    "import pandas as pd\n",
    "import matplotlib.pyplot as plt\n",
    "from os import listdir\n",
    "from scipy.spatial.distance import cosine\n",
    "\n",
    "from colormath.color_objects import sRGBColor, LabColor\n",
    "from colormath.color_conversions import convert_color \n",
    "from colormath.color_diff import delta_e_cie2000"
   ]
  },
  {
   "cell_type": "code",
   "execution_count": null,
   "metadata": {
    "collapsed": true
   },
   "outputs": [],
   "source": [
    "GRID_W = 20\n",
    "GRID_H = 20\n",
    "\n",
    "GRID_IMG_W = 32\n",
    "GRID_IMG_H = 32\n",
    "DIR_GRID_IMGS = \"grid-images/\"\n",
    "\n",
    "INP_IMG = \"files/2.jpg\"\n",
    "INP_IMG_W = 200\n",
    "INP_IMG_H = 200\n",
    "\n",
    "OUT_IMG = \"files/out.jpg\""
   ]
  },
  {
   "cell_type": "code",
   "execution_count": null,
   "metadata": {
    "collapsed": true
   },
   "outputs": [],
   "source": [
    "# RGB values average\n",
    "def get_avg_col(img):\n",
    "    avg = np.average(np.average(img,axis=0),axis=0)\n",
    "    return np.uint8(avg)\n",
    "\n",
    "def convert_to_labcolor(col):\n",
    "    col_srgb = sRGBColor(col[0],col[1],col[2])\n",
    "    return convert_color(col_srgb,LabColor)\n",
    "\n",
    "def get_col_img(color):\n",
    "    return np.array([[color]*10]*10, np.uint8)\n",
    "\n",
    "def get_col_dist(col1,col2):\n",
    "#     return np.linalg.norm(pix - row.avg_col)\n",
    "#     return np.sqrt(2*(col2[0]-col1[0])^2 + 4*(col2[1]-col1[1])^2 + 3*(col2[2]-col1[2])^2)\n",
    "#     return 1 - cosine(col1,col2)\n",
    "    return delta_e_cie2000(convert_to_labcolor(col1), convert_to_labcolor(col2))\n"
   ]
  },
  {
   "cell_type": "code",
   "execution_count": null,
   "metadata": {
    "collapsed": false
   },
   "outputs": [],
   "source": [
    "inp_img = cv2.resize(cv2.imread(INP_IMG), (INP_IMG_W,INP_IMG_H))\n",
    "grid_imgs = []\n",
    "\n",
    "for file in listdir(DIR_GRID_IMGS):\n",
    "    grid_imgs.append((cv2.resize(cv2.imread(DIR_GRID_IMGS+file), (GRID_IMG_W,GRID_IMG_H)),file,0))\n",
    "\n",
    "grid_imgs = pd.DataFrame(grid_imgs,columns=[\"img\",\"filename\",\"count\"])"
   ]
  },
  {
   "cell_type": "markdown",
   "metadata": {},
   "source": [
    "### Pixel wise average"
   ]
  },
  {
   "cell_type": "code",
   "execution_count": null,
   "metadata": {
    "collapsed": false
   },
   "outputs": [],
   "source": [
    "grid_imgs[\"avg_col\"] = grid_imgs.img.map(get_avg_col)"
   ]
  },
  {
   "cell_type": "code",
   "execution_count": null,
   "metadata": {
    "collapsed": true
   },
   "outputs": [],
   "source": [
    "for i,row in grid_imgs.sample(5).iterrows():\n",
    "    plt.imshow(row.img)\n",
    "    plt.show()    \n",
    "    plt.imshow(get_col_img(row.avg_col))\n",
    "    plt.show()"
   ]
  },
  {
   "cell_type": "code",
   "execution_count": null,
   "metadata": {
    "collapsed": false
   },
   "outputs": [],
   "source": [
    "out_img = np.array([[[0,0,0] for _ in range(GRID_H*INP_IMG_H)] for _ in range(GRID_W*INP_IMG_W)])"
   ]
  },
  {
   "cell_type": "code",
   "execution_count": null,
   "metadata": {
    "collapsed": false
   },
   "outputs": [],
   "source": [
    "%%time\n",
    "for i in range(INP_IMG_H):\n",
    "    print i\n",
    "    for j in range(INP_IMG_W):\n",
    "        pix = inp_img[i][j]\n",
    "        min_dist = float('inf')\n",
    "        min_dist_img = None\n",
    "        for index,row in grid_imgs.iterrows():\n",
    "            dist = get_col_dist(pix,row.avg_col)\n",
    "            if dist < min_dist:\n",
    "                min_dist = dist\n",
    "                min_dist_img = row.img\n",
    "        grid = cv2.resize(min_dist_img,(GRID_W,GRID_H))\n",
    "        for k in range(GRID_W):\n",
    "            for l in range(GRID_H):\n",
    "                out_img[i*GRID_W + k][j*GRID_H + l] = grid[k][l]"
   ]
  },
  {
   "cell_type": "code",
   "execution_count": null,
   "metadata": {
    "collapsed": false,
    "scrolled": false
   },
   "outputs": [],
   "source": [
    "cv2.imwrite(OUT_IMG,out_img)\n",
    "plt.imshow(np.array(out_img,dtype=np.uint8))\n",
    "plt.show()\n",
    "plt.imshow(inp_img)\n",
    "plt.show()"
   ]
  },
  {
   "cell_type": "code",
   "execution_count": null,
   "metadata": {
    "collapsed": true
   },
   "outputs": [],
   "source": []
  }
 ],
 "metadata": {
  "kernelspec": {
   "display_name": "Python [conda env:py27]",
   "language": "python",
   "name": "conda-env-py27-py"
  },
  "language_info": {
   "codemirror_mode": {
    "name": "ipython",
    "version": 2
   },
   "file_extension": ".py",
   "mimetype": "text/x-python",
   "name": "python",
   "nbconvert_exporter": "python",
   "pygments_lexer": "ipython2",
   "version": "2.7.13"
  }
 },
 "nbformat": 4,
 "nbformat_minor": 2
}
